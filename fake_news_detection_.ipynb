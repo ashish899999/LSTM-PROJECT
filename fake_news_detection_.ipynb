{
  "nbformat": 4,
  "nbformat_minor": 0,
  "metadata": {
    "colab": {
      "provenance": [],
      "authorship_tag": "ABX9TyNFka4TsGov+cGAJvLifVJU",
      "include_colab_link": true
    },
    "kernelspec": {
      "name": "python3",
      "display_name": "Python 3"
    },
    "language_info": {
      "name": "python"
    }
  },
  "cells": [
    {
      "cell_type": "markdown",
      "metadata": {
        "id": "view-in-github",
        "colab_type": "text"
      },
      "source": [
        "<a href=\"https://colab.research.google.com/github/ashish899999/LSTM-PROJECT/blob/main/fake_news_detection_.ipynb\" target=\"_parent\"><img src=\"https://colab.research.google.com/assets/colab-badge.svg\" alt=\"Open In Colab\"/></a>"
      ]
    },
    {
      "cell_type": "code",
      "execution_count": 2,
      "metadata": {
        "id": "hq82O3lg4FgS"
      },
      "outputs": [],
      "source": [
        "import numpy as np\n",
        "import pandas as pd"
      ]
    },
    {
      "cell_type": "code",
      "source": [
        "df=pd.read_csv(r'/content/fake_news_datset.csv')\n",
        "df"
      ],
      "metadata": {
        "colab": {
          "base_uri": "https://localhost:8080/",
          "height": 423
        },
        "id": "Z9BS5H_n7luS",
        "outputId": "9e7c04db-ac03-4bdc-dbec-adde3ed3f5c6"
      },
      "execution_count": 3,
      "outputs": [
        {
          "output_type": "execute_result",
          "data": {
            "text/plain": [
              "       Unnamed: 0  label                                               news\n",
              "0               0      0  us budget fight looms republicans flip fiscal ...\n",
              "1               1      0  us military accept transgender recruits monday...\n",
              "2               2      0  senior us republican senator let mr mueller jo...\n",
              "3               3      0  fbi russia probe helped australian diplomat ti...\n",
              "4               4      0  trump wants postal service charge much amazon ...\n",
              "...           ...    ...                                                ...\n",
              "44893       44893      1  mcpain john mccain furious iran treated us sai...\n",
              "44894       44894      1  justice yahoo settles email privacy classactio...\n",
              "44895       44895      1  sunnistan us allied ‘ safe zone ’ plan take te...\n",
              "44896       44896      1  blow 700 million al jazeera america finally ca...\n",
              "44897       44897      1  10 us navy sailors held iranian military – sig...\n",
              "\n",
              "[44898 rows x 3 columns]"
            ],
            "text/html": [
              "\n",
              "  <div id=\"df-cd83cf0c-76d1-4a79-8063-0f9a37aa9714\" class=\"colab-df-container\">\n",
              "    <div>\n",
              "<style scoped>\n",
              "    .dataframe tbody tr th:only-of-type {\n",
              "        vertical-align: middle;\n",
              "    }\n",
              "\n",
              "    .dataframe tbody tr th {\n",
              "        vertical-align: top;\n",
              "    }\n",
              "\n",
              "    .dataframe thead th {\n",
              "        text-align: right;\n",
              "    }\n",
              "</style>\n",
              "<table border=\"1\" class=\"dataframe\">\n",
              "  <thead>\n",
              "    <tr style=\"text-align: right;\">\n",
              "      <th></th>\n",
              "      <th>Unnamed: 0</th>\n",
              "      <th>label</th>\n",
              "      <th>news</th>\n",
              "    </tr>\n",
              "  </thead>\n",
              "  <tbody>\n",
              "    <tr>\n",
              "      <th>0</th>\n",
              "      <td>0</td>\n",
              "      <td>0</td>\n",
              "      <td>us budget fight looms republicans flip fiscal ...</td>\n",
              "    </tr>\n",
              "    <tr>\n",
              "      <th>1</th>\n",
              "      <td>1</td>\n",
              "      <td>0</td>\n",
              "      <td>us military accept transgender recruits monday...</td>\n",
              "    </tr>\n",
              "    <tr>\n",
              "      <th>2</th>\n",
              "      <td>2</td>\n",
              "      <td>0</td>\n",
              "      <td>senior us republican senator let mr mueller jo...</td>\n",
              "    </tr>\n",
              "    <tr>\n",
              "      <th>3</th>\n",
              "      <td>3</td>\n",
              "      <td>0</td>\n",
              "      <td>fbi russia probe helped australian diplomat ti...</td>\n",
              "    </tr>\n",
              "    <tr>\n",
              "      <th>4</th>\n",
              "      <td>4</td>\n",
              "      <td>0</td>\n",
              "      <td>trump wants postal service charge much amazon ...</td>\n",
              "    </tr>\n",
              "    <tr>\n",
              "      <th>...</th>\n",
              "      <td>...</td>\n",
              "      <td>...</td>\n",
              "      <td>...</td>\n",
              "    </tr>\n",
              "    <tr>\n",
              "      <th>44893</th>\n",
              "      <td>44893</td>\n",
              "      <td>1</td>\n",
              "      <td>mcpain john mccain furious iran treated us sai...</td>\n",
              "    </tr>\n",
              "    <tr>\n",
              "      <th>44894</th>\n",
              "      <td>44894</td>\n",
              "      <td>1</td>\n",
              "      <td>justice yahoo settles email privacy classactio...</td>\n",
              "    </tr>\n",
              "    <tr>\n",
              "      <th>44895</th>\n",
              "      <td>44895</td>\n",
              "      <td>1</td>\n",
              "      <td>sunnistan us allied ‘ safe zone ’ plan take te...</td>\n",
              "    </tr>\n",
              "    <tr>\n",
              "      <th>44896</th>\n",
              "      <td>44896</td>\n",
              "      <td>1</td>\n",
              "      <td>blow 700 million al jazeera america finally ca...</td>\n",
              "    </tr>\n",
              "    <tr>\n",
              "      <th>44897</th>\n",
              "      <td>44897</td>\n",
              "      <td>1</td>\n",
              "      <td>10 us navy sailors held iranian military – sig...</td>\n",
              "    </tr>\n",
              "  </tbody>\n",
              "</table>\n",
              "<p>44898 rows × 3 columns</p>\n",
              "</div>\n",
              "    <div class=\"colab-df-buttons\">\n",
              "\n",
              "  <div class=\"colab-df-container\">\n",
              "    <button class=\"colab-df-convert\" onclick=\"convertToInteractive('df-cd83cf0c-76d1-4a79-8063-0f9a37aa9714')\"\n",
              "            title=\"Convert this dataframe to an interactive table.\"\n",
              "            style=\"display:none;\">\n",
              "\n",
              "  <svg xmlns=\"http://www.w3.org/2000/svg\" height=\"24px\" viewBox=\"0 -960 960 960\">\n",
              "    <path d=\"M120-120v-720h720v720H120Zm60-500h600v-160H180v160Zm220 220h160v-160H400v160Zm0 220h160v-160H400v160ZM180-400h160v-160H180v160Zm440 0h160v-160H620v160ZM180-180h160v-160H180v160Zm440 0h160v-160H620v160Z\"/>\n",
              "  </svg>\n",
              "    </button>\n",
              "\n",
              "  <style>\n",
              "    .colab-df-container {\n",
              "      display:flex;\n",
              "      gap: 12px;\n",
              "    }\n",
              "\n",
              "    .colab-df-convert {\n",
              "      background-color: #E8F0FE;\n",
              "      border: none;\n",
              "      border-radius: 50%;\n",
              "      cursor: pointer;\n",
              "      display: none;\n",
              "      fill: #1967D2;\n",
              "      height: 32px;\n",
              "      padding: 0 0 0 0;\n",
              "      width: 32px;\n",
              "    }\n",
              "\n",
              "    .colab-df-convert:hover {\n",
              "      background-color: #E2EBFA;\n",
              "      box-shadow: 0px 1px 2px rgba(60, 64, 67, 0.3), 0px 1px 3px 1px rgba(60, 64, 67, 0.15);\n",
              "      fill: #174EA6;\n",
              "    }\n",
              "\n",
              "    .colab-df-buttons div {\n",
              "      margin-bottom: 4px;\n",
              "    }\n",
              "\n",
              "    [theme=dark] .colab-df-convert {\n",
              "      background-color: #3B4455;\n",
              "      fill: #D2E3FC;\n",
              "    }\n",
              "\n",
              "    [theme=dark] .colab-df-convert:hover {\n",
              "      background-color: #434B5C;\n",
              "      box-shadow: 0px 1px 3px 1px rgba(0, 0, 0, 0.15);\n",
              "      filter: drop-shadow(0px 1px 2px rgba(0, 0, 0, 0.3));\n",
              "      fill: #FFFFFF;\n",
              "    }\n",
              "  </style>\n",
              "\n",
              "    <script>\n",
              "      const buttonEl =\n",
              "        document.querySelector('#df-cd83cf0c-76d1-4a79-8063-0f9a37aa9714 button.colab-df-convert');\n",
              "      buttonEl.style.display =\n",
              "        google.colab.kernel.accessAllowed ? 'block' : 'none';\n",
              "\n",
              "      async function convertToInteractive(key) {\n",
              "        const element = document.querySelector('#df-cd83cf0c-76d1-4a79-8063-0f9a37aa9714');\n",
              "        const dataTable =\n",
              "          await google.colab.kernel.invokeFunction('convertToInteractive',\n",
              "                                                    [key], {});\n",
              "        if (!dataTable) return;\n",
              "\n",
              "        const docLinkHtml = 'Like what you see? Visit the ' +\n",
              "          '<a target=\"_blank\" href=https://colab.research.google.com/notebooks/data_table.ipynb>data table notebook</a>'\n",
              "          + ' to learn more about interactive tables.';\n",
              "        element.innerHTML = '';\n",
              "        dataTable['output_type'] = 'display_data';\n",
              "        await google.colab.output.renderOutput(dataTable, element);\n",
              "        const docLink = document.createElement('div');\n",
              "        docLink.innerHTML = docLinkHtml;\n",
              "        element.appendChild(docLink);\n",
              "      }\n",
              "    </script>\n",
              "  </div>\n",
              "\n",
              "\n",
              "<div id=\"df-aa8d9a63-75c3-4f3d-b8ab-f1eaf1dca0eb\">\n",
              "  <button class=\"colab-df-quickchart\" onclick=\"quickchart('df-aa8d9a63-75c3-4f3d-b8ab-f1eaf1dca0eb')\"\n",
              "            title=\"Suggest charts\"\n",
              "            style=\"display:none;\">\n",
              "\n",
              "<svg xmlns=\"http://www.w3.org/2000/svg\" height=\"24px\"viewBox=\"0 0 24 24\"\n",
              "     width=\"24px\">\n",
              "    <g>\n",
              "        <path d=\"M19 3H5c-1.1 0-2 .9-2 2v14c0 1.1.9 2 2 2h14c1.1 0 2-.9 2-2V5c0-1.1-.9-2-2-2zM9 17H7v-7h2v7zm4 0h-2V7h2v10zm4 0h-2v-4h2v4z\"/>\n",
              "    </g>\n",
              "</svg>\n",
              "  </button>\n",
              "\n",
              "<style>\n",
              "  .colab-df-quickchart {\n",
              "      --bg-color: #E8F0FE;\n",
              "      --fill-color: #1967D2;\n",
              "      --hover-bg-color: #E2EBFA;\n",
              "      --hover-fill-color: #174EA6;\n",
              "      --disabled-fill-color: #AAA;\n",
              "      --disabled-bg-color: #DDD;\n",
              "  }\n",
              "\n",
              "  [theme=dark] .colab-df-quickchart {\n",
              "      --bg-color: #3B4455;\n",
              "      --fill-color: #D2E3FC;\n",
              "      --hover-bg-color: #434B5C;\n",
              "      --hover-fill-color: #FFFFFF;\n",
              "      --disabled-bg-color: #3B4455;\n",
              "      --disabled-fill-color: #666;\n",
              "  }\n",
              "\n",
              "  .colab-df-quickchart {\n",
              "    background-color: var(--bg-color);\n",
              "    border: none;\n",
              "    border-radius: 50%;\n",
              "    cursor: pointer;\n",
              "    display: none;\n",
              "    fill: var(--fill-color);\n",
              "    height: 32px;\n",
              "    padding: 0;\n",
              "    width: 32px;\n",
              "  }\n",
              "\n",
              "  .colab-df-quickchart:hover {\n",
              "    background-color: var(--hover-bg-color);\n",
              "    box-shadow: 0 1px 2px rgba(60, 64, 67, 0.3), 0 1px 3px 1px rgba(60, 64, 67, 0.15);\n",
              "    fill: var(--button-hover-fill-color);\n",
              "  }\n",
              "\n",
              "  .colab-df-quickchart-complete:disabled,\n",
              "  .colab-df-quickchart-complete:disabled:hover {\n",
              "    background-color: var(--disabled-bg-color);\n",
              "    fill: var(--disabled-fill-color);\n",
              "    box-shadow: none;\n",
              "  }\n",
              "\n",
              "  .colab-df-spinner {\n",
              "    border: 2px solid var(--fill-color);\n",
              "    border-color: transparent;\n",
              "    border-bottom-color: var(--fill-color);\n",
              "    animation:\n",
              "      spin 1s steps(1) infinite;\n",
              "  }\n",
              "\n",
              "  @keyframes spin {\n",
              "    0% {\n",
              "      border-color: transparent;\n",
              "      border-bottom-color: var(--fill-color);\n",
              "      border-left-color: var(--fill-color);\n",
              "    }\n",
              "    20% {\n",
              "      border-color: transparent;\n",
              "      border-left-color: var(--fill-color);\n",
              "      border-top-color: var(--fill-color);\n",
              "    }\n",
              "    30% {\n",
              "      border-color: transparent;\n",
              "      border-left-color: var(--fill-color);\n",
              "      border-top-color: var(--fill-color);\n",
              "      border-right-color: var(--fill-color);\n",
              "    }\n",
              "    40% {\n",
              "      border-color: transparent;\n",
              "      border-right-color: var(--fill-color);\n",
              "      border-top-color: var(--fill-color);\n",
              "    }\n",
              "    60% {\n",
              "      border-color: transparent;\n",
              "      border-right-color: var(--fill-color);\n",
              "    }\n",
              "    80% {\n",
              "      border-color: transparent;\n",
              "      border-right-color: var(--fill-color);\n",
              "      border-bottom-color: var(--fill-color);\n",
              "    }\n",
              "    90% {\n",
              "      border-color: transparent;\n",
              "      border-bottom-color: var(--fill-color);\n",
              "    }\n",
              "  }\n",
              "</style>\n",
              "\n",
              "  <script>\n",
              "    async function quickchart(key) {\n",
              "      const quickchartButtonEl =\n",
              "        document.querySelector('#' + key + ' button');\n",
              "      quickchartButtonEl.disabled = true;  // To prevent multiple clicks.\n",
              "      quickchartButtonEl.classList.add('colab-df-spinner');\n",
              "      try {\n",
              "        const charts = await google.colab.kernel.invokeFunction(\n",
              "            'suggestCharts', [key], {});\n",
              "      } catch (error) {\n",
              "        console.error('Error during call to suggestCharts:', error);\n",
              "      }\n",
              "      quickchartButtonEl.classList.remove('colab-df-spinner');\n",
              "      quickchartButtonEl.classList.add('colab-df-quickchart-complete');\n",
              "    }\n",
              "    (() => {\n",
              "      let quickchartButtonEl =\n",
              "        document.querySelector('#df-aa8d9a63-75c3-4f3d-b8ab-f1eaf1dca0eb button');\n",
              "      quickchartButtonEl.style.display =\n",
              "        google.colab.kernel.accessAllowed ? 'block' : 'none';\n",
              "    })();\n",
              "  </script>\n",
              "</div>\n",
              "\n",
              "  <div id=\"id_e047f344-0844-4648-8a22-ae41ad8d6175\">\n",
              "    <style>\n",
              "      .colab-df-generate {\n",
              "        background-color: #E8F0FE;\n",
              "        border: none;\n",
              "        border-radius: 50%;\n",
              "        cursor: pointer;\n",
              "        display: none;\n",
              "        fill: #1967D2;\n",
              "        height: 32px;\n",
              "        padding: 0 0 0 0;\n",
              "        width: 32px;\n",
              "      }\n",
              "\n",
              "      .colab-df-generate:hover {\n",
              "        background-color: #E2EBFA;\n",
              "        box-shadow: 0px 1px 2px rgba(60, 64, 67, 0.3), 0px 1px 3px 1px rgba(60, 64, 67, 0.15);\n",
              "        fill: #174EA6;\n",
              "      }\n",
              "\n",
              "      [theme=dark] .colab-df-generate {\n",
              "        background-color: #3B4455;\n",
              "        fill: #D2E3FC;\n",
              "      }\n",
              "\n",
              "      [theme=dark] .colab-df-generate:hover {\n",
              "        background-color: #434B5C;\n",
              "        box-shadow: 0px 1px 3px 1px rgba(0, 0, 0, 0.15);\n",
              "        filter: drop-shadow(0px 1px 2px rgba(0, 0, 0, 0.3));\n",
              "        fill: #FFFFFF;\n",
              "      }\n",
              "    </style>\n",
              "    <button class=\"colab-df-generate\" onclick=\"generateWithVariable('df')\"\n",
              "            title=\"Generate code using this dataframe.\"\n",
              "            style=\"display:none;\">\n",
              "\n",
              "  <svg xmlns=\"http://www.w3.org/2000/svg\" height=\"24px\"viewBox=\"0 0 24 24\"\n",
              "       width=\"24px\">\n",
              "    <path d=\"M7,19H8.4L18.45,9,17,7.55,7,17.6ZM5,21V16.75L18.45,3.32a2,2,0,0,1,2.83,0l1.4,1.43a1.91,1.91,0,0,1,.58,1.4,1.91,1.91,0,0,1-.58,1.4L9.25,21ZM18.45,9,17,7.55Zm-12,3A5.31,5.31,0,0,0,4.9,8.1,5.31,5.31,0,0,0,1,6.5,5.31,5.31,0,0,0,4.9,4.9,5.31,5.31,0,0,0,6.5,1,5.31,5.31,0,0,0,8.1,4.9,5.31,5.31,0,0,0,12,6.5,5.46,5.46,0,0,0,6.5,12Z\"/>\n",
              "  </svg>\n",
              "    </button>\n",
              "    <script>\n",
              "      (() => {\n",
              "      const buttonEl =\n",
              "        document.querySelector('#id_e047f344-0844-4648-8a22-ae41ad8d6175 button.colab-df-generate');\n",
              "      buttonEl.style.display =\n",
              "        google.colab.kernel.accessAllowed ? 'block' : 'none';\n",
              "\n",
              "      buttonEl.onclick = () => {\n",
              "        google.colab.notebook.generateWithVariable('df');\n",
              "      }\n",
              "      })();\n",
              "    </script>\n",
              "  </div>\n",
              "\n",
              "    </div>\n",
              "  </div>\n"
            ],
            "application/vnd.google.colaboratory.intrinsic+json": {
              "type": "dataframe",
              "variable_name": "df",
              "summary": "{\n  \"name\": \"df\",\n  \"rows\": 44898,\n  \"fields\": [\n    {\n      \"column\": \"Unnamed: 0\",\n      \"properties\": {\n        \"dtype\": \"number\",\n        \"std\": 12961,\n        \"min\": 0,\n        \"max\": 44897,\n        \"num_unique_values\": 44898,\n        \"samples\": [\n          22216,\n          27917,\n          25007\n        ],\n        \"semantic_type\": \"\",\n        \"description\": \"\"\n      }\n    },\n    {\n      \"column\": \"label\",\n      \"properties\": {\n        \"dtype\": \"number\",\n        \"std\": 0,\n        \"min\": 0,\n        \"max\": 1,\n        \"num_unique_values\": 2,\n        \"samples\": [\n          1,\n          0\n        ],\n        \"semantic_type\": \"\",\n        \"description\": \"\"\n      }\n    },\n    {\n      \"column\": \"news\",\n      \"properties\": {\n        \"dtype\": \"string\",\n        \"num_unique_values\": 39099,\n        \"samples\": [\n          \"trump presidency feb 15 829 pm est highlights day us president donald trump \\u2019 administration wednesday crisis relationship trump \\u2019 aides russia deepens growing number trump \\u2019 fellow republicans demand expanded congressional inquiries matter trump administration offers job national security adviser us vice admiral robert harward sources say clear accepted kremlin says us media reports russian intelligence connections trump \\u2019 presidential campaign groundless russia also says return crimea ukraine discuss matter foreign partners white house says trump expects annexed black sea peninsula returned trump \\u2019 nominee labor secretary andrew puzder withdraws name consideration amid concerns could garner enough senate votes confirmed trump \\u2019 choice representative mick mulvaney become white house budget director wednesday appears pick enough republican votes vault job trump drops us insistence twostate solution israelipalestinian conflict longstanding bedrock middle east policy even urges israeli prime minister benjamin netanyahu curb settlement construction trump says tax code revisions critical way boost nation \\u2019 economy kicks white house meeting chief executive officers target corp best buy co inc six major retailers trump \\u2019 defense secretary seeks reassure nato steadfast us support talks brussels nervous european allies try look past president \\u2019 rhetoric turmoil within administration us secretary state rex tillerson heading bonn interact counterparts group 20 top economies time many wondering strongly trump \\u2019 \\u201c america first \\u201d message reshape us foreign policy vice president mike pence also bound europe week meet allies seeking clarity administration \\u2019 foreign policy strategy stance toward russia staff us environmental protection agency told trump preparing handful executive orders reshape agency signed new administrator confirmed two sources say trump administration proposes changes obamacare individual insurance market insurers welcome good start others say could raise consumers \\u2019 outofpocket cost\",\n          \"yrc shutters terminal puerto rico hurricane irma approaches yrc worldwide inc said wednesday closed terminal guaynabo puerto rico hurricane irma closes puerto rico hurricane irma 140 miles 225 km east san juan puerto rico maximum sustained winds 185 mph 295 kmh us national hurricane center said\"\n        ],\n        \"semantic_type\": \"\",\n        \"description\": \"\"\n      }\n    }\n  ]\n}"
            }
          },
          "metadata": {},
          "execution_count": 3
        }
      ]
    },
    {
      "cell_type": "code",
      "source": [
        "df.sample()"
      ],
      "metadata": {
        "colab": {
          "base_uri": "https://localhost:8080/",
          "height": 257
        },
        "id": "PNpu1n3nYUKa",
        "outputId": "48a47949-191d-4ea8-ee95-7a83d74bf6f8"
      },
      "execution_count": 31,
      "outputs": [
        {
          "output_type": "execute_result",
          "data": {
            "text/plain": [
              "       label                                               news\n",
              "37727      1  department justice fines sheriff excluding ill..."
            ],
            "text/html": [
              "\n",
              "  <div id=\"df-4a6bc302-770f-42e8-8e69-5ca2a1b94c73\" class=\"colab-df-container\">\n",
              "    <div>\n",
              "<style scoped>\n",
              "    .dataframe tbody tr th:only-of-type {\n",
              "        vertical-align: middle;\n",
              "    }\n",
              "\n",
              "    .dataframe tbody tr th {\n",
              "        vertical-align: top;\n",
              "    }\n",
              "\n",
              "    .dataframe thead th {\n",
              "        text-align: right;\n",
              "    }\n",
              "</style>\n",
              "<table border=\"1\" class=\"dataframe\">\n",
              "  <thead>\n",
              "    <tr style=\"text-align: right;\">\n",
              "      <th></th>\n",
              "      <th>label</th>\n",
              "      <th>news</th>\n",
              "    </tr>\n",
              "  </thead>\n",
              "  <tbody>\n",
              "    <tr>\n",
              "      <th>37727</th>\n",
              "      <td>1</td>\n",
              "      <td>department justice fines sheriff excluding ill...</td>\n",
              "    </tr>\n",
              "  </tbody>\n",
              "</table>\n",
              "</div>\n",
              "    <div class=\"colab-df-buttons\">\n",
              "\n",
              "  <div class=\"colab-df-container\">\n",
              "    <button class=\"colab-df-convert\" onclick=\"convertToInteractive('df-4a6bc302-770f-42e8-8e69-5ca2a1b94c73')\"\n",
              "            title=\"Convert this dataframe to an interactive table.\"\n",
              "            style=\"display:none;\">\n",
              "\n",
              "  <svg xmlns=\"http://www.w3.org/2000/svg\" height=\"24px\" viewBox=\"0 -960 960 960\">\n",
              "    <path d=\"M120-120v-720h720v720H120Zm60-500h600v-160H180v160Zm220 220h160v-160H400v160Zm0 220h160v-160H400v160ZM180-400h160v-160H180v160Zm440 0h160v-160H620v160ZM180-180h160v-160H180v160Zm440 0h160v-160H620v160Z\"/>\n",
              "  </svg>\n",
              "    </button>\n",
              "\n",
              "  <style>\n",
              "    .colab-df-container {\n",
              "      display:flex;\n",
              "      gap: 12px;\n",
              "    }\n",
              "\n",
              "    .colab-df-convert {\n",
              "      background-color: #E8F0FE;\n",
              "      border: none;\n",
              "      border-radius: 50%;\n",
              "      cursor: pointer;\n",
              "      display: none;\n",
              "      fill: #1967D2;\n",
              "      height: 32px;\n",
              "      padding: 0 0 0 0;\n",
              "      width: 32px;\n",
              "    }\n",
              "\n",
              "    .colab-df-convert:hover {\n",
              "      background-color: #E2EBFA;\n",
              "      box-shadow: 0px 1px 2px rgba(60, 64, 67, 0.3), 0px 1px 3px 1px rgba(60, 64, 67, 0.15);\n",
              "      fill: #174EA6;\n",
              "    }\n",
              "\n",
              "    .colab-df-buttons div {\n",
              "      margin-bottom: 4px;\n",
              "    }\n",
              "\n",
              "    [theme=dark] .colab-df-convert {\n",
              "      background-color: #3B4455;\n",
              "      fill: #D2E3FC;\n",
              "    }\n",
              "\n",
              "    [theme=dark] .colab-df-convert:hover {\n",
              "      background-color: #434B5C;\n",
              "      box-shadow: 0px 1px 3px 1px rgba(0, 0, 0, 0.15);\n",
              "      filter: drop-shadow(0px 1px 2px rgba(0, 0, 0, 0.3));\n",
              "      fill: #FFFFFF;\n",
              "    }\n",
              "  </style>\n",
              "\n",
              "    <script>\n",
              "      const buttonEl =\n",
              "        document.querySelector('#df-4a6bc302-770f-42e8-8e69-5ca2a1b94c73 button.colab-df-convert');\n",
              "      buttonEl.style.display =\n",
              "        google.colab.kernel.accessAllowed ? 'block' : 'none';\n",
              "\n",
              "      async function convertToInteractive(key) {\n",
              "        const element = document.querySelector('#df-4a6bc302-770f-42e8-8e69-5ca2a1b94c73');\n",
              "        const dataTable =\n",
              "          await google.colab.kernel.invokeFunction('convertToInteractive',\n",
              "                                                    [key], {});\n",
              "        if (!dataTable) return;\n",
              "\n",
              "        const docLinkHtml = 'Like what you see? Visit the ' +\n",
              "          '<a target=\"_blank\" href=https://colab.research.google.com/notebooks/data_table.ipynb>data table notebook</a>'\n",
              "          + ' to learn more about interactive tables.';\n",
              "        element.innerHTML = '';\n",
              "        dataTable['output_type'] = 'display_data';\n",
              "        await google.colab.output.renderOutput(dataTable, element);\n",
              "        const docLink = document.createElement('div');\n",
              "        docLink.innerHTML = docLinkHtml;\n",
              "        element.appendChild(docLink);\n",
              "      }\n",
              "    </script>\n",
              "  </div>\n",
              "\n",
              "\n",
              "    </div>\n",
              "  </div>\n"
            ],
            "application/vnd.google.colaboratory.intrinsic+json": {
              "type": "dataframe",
              "summary": "{\n  \"name\": \"df\",\n  \"rows\": 1,\n  \"fields\": [\n    {\n      \"column\": \"label\",\n      \"properties\": {\n        \"dtype\": \"number\",\n        \"std\": null,\n        \"min\": 1,\n        \"max\": 1,\n        \"num_unique_values\": 1,\n        \"samples\": [\n          1\n        ],\n        \"semantic_type\": \"\",\n        \"description\": \"\"\n      }\n    },\n    {\n      \"column\": \"news\",\n      \"properties\": {\n        \"dtype\": \"string\",\n        \"num_unique_values\": 1,\n        \"samples\": [\n          \"department justice fines sheriff excluding illegals hiring wikipediathe immigration nationality act 1965 hart celler act abolished quota system based national origins american immigration policy since 1920s new law maintained percountry limits also created preference visa categories focused immigrants skills family relationships citizens us residents bill set numerical restrictions visas 170000 per year percountryoforigin quota however immediate relatives us citizens special immigrants restrictionsthe denver sheriff department accept penalty department justice federal probe found wrongly made us citizenship job requirement recent hiring spreethe sheriff department biggest sheriff office colorado pay 10000 fine required applications deputy sheriff jobs us citizens hiring beginning 2015 march 2016 department went hiring spree 200 deputies part ongoing reformthe department also go old applications find applicants eliminated citizenship status reconsider future jobsthe justice department made announcement monday saying sheriff department violated immigration nationality act without exemptionread\"\n        ],\n        \"semantic_type\": \"\",\n        \"description\": \"\"\n      }\n    }\n  ]\n}"
            }
          },
          "metadata": {},
          "execution_count": 31
        }
      ]
    },
    {
      "cell_type": "code",
      "source": [
        "!kaggle datasets download -d danielwillgeorge/glove6b100dtxt"
      ],
      "metadata": {
        "colab": {
          "base_uri": "https://localhost:8080/"
        },
        "id": "n8DC78WlB7mx",
        "outputId": "4ceb3213-b824-4c81-c7e6-b2ce339c6f51"
      },
      "execution_count": 7,
      "outputs": [
        {
          "output_type": "stream",
          "name": "stdout",
          "text": [
            "Dataset URL: https://www.kaggle.com/datasets/danielwillgeorge/glove6b100dtxt\n",
            "License(s): unknown\n",
            "Downloading glove6b100dtxt.zip to /content\n",
            " 98% 129M/131M [00:01<00:00, 75.6MB/s]\n",
            "100% 131M/131M [00:01<00:00, 86.1MB/s]\n"
          ]
        }
      ]
    },
    {
      "cell_type": "code",
      "source": [
        "import zipfile\n",
        "zip_ref = zipfile.ZipFile('/content/glove6b100dtxt.zip', 'r')\n",
        "zip_ref.extractall('/content')\n",
        "zip_ref.close()"
      ],
      "metadata": {
        "id": "ZhndSY4ECHy4"
      },
      "execution_count": 9,
      "outputs": []
    },
    {
      "cell_type": "code",
      "source": [
        "df=df.drop(['Unnamed: 0'],axis=1)"
      ],
      "metadata": {
        "id": "9ag5NaGY8MLZ"
      },
      "execution_count": 4,
      "outputs": []
    },
    {
      "cell_type": "code",
      "source": [
        "df.sample()"
      ],
      "metadata": {
        "colab": {
          "base_uri": "https://localhost:8080/",
          "height": 80
        },
        "id": "CuC6pIMQ8Sab",
        "outputId": "3c1d51d5-3922-4da1-dde0-1b02ab513a99"
      },
      "execution_count": 5,
      "outputs": [
        {
          "output_type": "execute_result",
          "data": {
            "text/plain": [
              "       label                                               news\n",
              "38946      1  cowardly chain migration terrorist entered us ..."
            ],
            "text/html": [
              "\n",
              "  <div id=\"df-9c1865bf-ccbd-484f-b5a7-155be4625777\" class=\"colab-df-container\">\n",
              "    <div>\n",
              "<style scoped>\n",
              "    .dataframe tbody tr th:only-of-type {\n",
              "        vertical-align: middle;\n",
              "    }\n",
              "\n",
              "    .dataframe tbody tr th {\n",
              "        vertical-align: top;\n",
              "    }\n",
              "\n",
              "    .dataframe thead th {\n",
              "        text-align: right;\n",
              "    }\n",
              "</style>\n",
              "<table border=\"1\" class=\"dataframe\">\n",
              "  <thead>\n",
              "    <tr style=\"text-align: right;\">\n",
              "      <th></th>\n",
              "      <th>label</th>\n",
              "      <th>news</th>\n",
              "    </tr>\n",
              "  </thead>\n",
              "  <tbody>\n",
              "    <tr>\n",
              "      <th>38946</th>\n",
              "      <td>1</td>\n",
              "      <td>cowardly chain migration terrorist entered us ...</td>\n",
              "    </tr>\n",
              "  </tbody>\n",
              "</table>\n",
              "</div>\n",
              "    <div class=\"colab-df-buttons\">\n",
              "\n",
              "  <div class=\"colab-df-container\">\n",
              "    <button class=\"colab-df-convert\" onclick=\"convertToInteractive('df-9c1865bf-ccbd-484f-b5a7-155be4625777')\"\n",
              "            title=\"Convert this dataframe to an interactive table.\"\n",
              "            style=\"display:none;\">\n",
              "\n",
              "  <svg xmlns=\"http://www.w3.org/2000/svg\" height=\"24px\" viewBox=\"0 -960 960 960\">\n",
              "    <path d=\"M120-120v-720h720v720H120Zm60-500h600v-160H180v160Zm220 220h160v-160H400v160Zm0 220h160v-160H400v160ZM180-400h160v-160H180v160Zm440 0h160v-160H620v160ZM180-180h160v-160H180v160Zm440 0h160v-160H620v160Z\"/>\n",
              "  </svg>\n",
              "    </button>\n",
              "\n",
              "  <style>\n",
              "    .colab-df-container {\n",
              "      display:flex;\n",
              "      gap: 12px;\n",
              "    }\n",
              "\n",
              "    .colab-df-convert {\n",
              "      background-color: #E8F0FE;\n",
              "      border: none;\n",
              "      border-radius: 50%;\n",
              "      cursor: pointer;\n",
              "      display: none;\n",
              "      fill: #1967D2;\n",
              "      height: 32px;\n",
              "      padding: 0 0 0 0;\n",
              "      width: 32px;\n",
              "    }\n",
              "\n",
              "    .colab-df-convert:hover {\n",
              "      background-color: #E2EBFA;\n",
              "      box-shadow: 0px 1px 2px rgba(60, 64, 67, 0.3), 0px 1px 3px 1px rgba(60, 64, 67, 0.15);\n",
              "      fill: #174EA6;\n",
              "    }\n",
              "\n",
              "    .colab-df-buttons div {\n",
              "      margin-bottom: 4px;\n",
              "    }\n",
              "\n",
              "    [theme=dark] .colab-df-convert {\n",
              "      background-color: #3B4455;\n",
              "      fill: #D2E3FC;\n",
              "    }\n",
              "\n",
              "    [theme=dark] .colab-df-convert:hover {\n",
              "      background-color: #434B5C;\n",
              "      box-shadow: 0px 1px 3px 1px rgba(0, 0, 0, 0.15);\n",
              "      filter: drop-shadow(0px 1px 2px rgba(0, 0, 0, 0.3));\n",
              "      fill: #FFFFFF;\n",
              "    }\n",
              "  </style>\n",
              "\n",
              "    <script>\n",
              "      const buttonEl =\n",
              "        document.querySelector('#df-9c1865bf-ccbd-484f-b5a7-155be4625777 button.colab-df-convert');\n",
              "      buttonEl.style.display =\n",
              "        google.colab.kernel.accessAllowed ? 'block' : 'none';\n",
              "\n",
              "      async function convertToInteractive(key) {\n",
              "        const element = document.querySelector('#df-9c1865bf-ccbd-484f-b5a7-155be4625777');\n",
              "        const dataTable =\n",
              "          await google.colab.kernel.invokeFunction('convertToInteractive',\n",
              "                                                    [key], {});\n",
              "        if (!dataTable) return;\n",
              "\n",
              "        const docLinkHtml = 'Like what you see? Visit the ' +\n",
              "          '<a target=\"_blank\" href=https://colab.research.google.com/notebooks/data_table.ipynb>data table notebook</a>'\n",
              "          + ' to learn more about interactive tables.';\n",
              "        element.innerHTML = '';\n",
              "        dataTable['output_type'] = 'display_data';\n",
              "        await google.colab.output.renderOutput(dataTable, element);\n",
              "        const docLink = document.createElement('div');\n",
              "        docLink.innerHTML = docLinkHtml;\n",
              "        element.appendChild(docLink);\n",
              "      }\n",
              "    </script>\n",
              "  </div>\n",
              "\n",
              "\n",
              "    </div>\n",
              "  </div>\n"
            ],
            "application/vnd.google.colaboratory.intrinsic+json": {
              "type": "dataframe",
              "summary": "{\n  \"name\": \"df\",\n  \"rows\": 1,\n  \"fields\": [\n    {\n      \"column\": \"label\",\n      \"properties\": {\n        \"dtype\": \"number\",\n        \"std\": null,\n        \"min\": 1,\n        \"max\": 1,\n        \"num_unique_values\": 1,\n        \"samples\": [\n          1\n        ],\n        \"semantic_type\": \"\",\n        \"description\": \"\"\n      }\n    },\n    {\n      \"column\": \"news\",\n      \"properties\": {\n        \"dtype\": \"string\",\n        \"num_unique_values\": 1,\n        \"samples\": [\n          \"cowardly chain migration terrorist entered us obama \\u2019 second term mocked president trump failing blow yesterday cowardly recipient america generosity via broken chain migration policy walked busy subway terminal near port authority transit hub planned use homemade bomb strapped body weapon terrorize many people possible chain migration terrorist claims chose port authority site poor little radicalized muslim america welcomed open arms triggered christmas posters hung hallways terminal chain migration terrorist inspired isis failed miserablythe media show true colors ignore ease radical muslims hotbed terror nations allowed enter united states instead focus ullah statement wanting punish president trump recognizing jerusalem capital israel media also ignore fact even conversation ullah allowed enter united states obama presidency actually barack hussein obama second term 2014 ullah began explore ways commit acts terror americans way show allegiance cowardly terror group isis see paragraph f port authority bomber akayed ullah wanted send message straight white house trump failed protect nation screenshot complaint filed assistant united states attorneysthat 27yearold isis adherent wrote facebook page way blow bustling transit hub monday morning according federal complaint filed tuesdayhe also written passport america die rage charges also reveal 27yearold bangeldeshborn cabbie online radicalization began 2014 began researching build bombs year ago although constructed crude explosive device brooklyn home week agoullah built bomb maximum damage federal prosecutors charge filling metal screws performed bombing workday believed would people nyp\"\n        ],\n        \"semantic_type\": \"\",\n        \"description\": \"\"\n      }\n    }\n  ]\n}"
            }
          },
          "metadata": {},
          "execution_count": 5
        }
      ]
    },
    {
      "cell_type": "code",
      "source": [
        "# import gensim.downloader as api\n",
        "\n",
        "# # Load the pre-trained Word2Vec model from gensim's dataset\n",
        "# word2vec_model = api.load(\"word2vec-google-news-300\")"
      ],
      "metadata": {
        "colab": {
          "base_uri": "https://localhost:8080/"
        },
        "id": "1yt2Ct3Q5ilk",
        "outputId": "6184c39f-0af3-4efe-f329-f76fd3290129"
      },
      "execution_count": 2,
      "outputs": [
        {
          "output_type": "stream",
          "name": "stdout",
          "text": [
            "[==================================================] 100.0% 1662.8/1662.8MB downloaded\n"
          ]
        }
      ]
    },
    {
      "cell_type": "code",
      "source": [
        "import numpy as np\n",
        "\n",
        "# Load the GloVe embeddings\n",
        "embeddings_index = {}\n",
        "with open('/content/glove.6B.100d.txt', encoding='utf-8') as f:\n",
        "    for line in f:\n",
        "        values = line.split()\n",
        "        word = values[0]\n",
        "        coefs = np.asarray(values[1:], dtype='float32')\n",
        "        embeddings_index[word] = coefs\n",
        "\n",
        "print('Found %s word vectors.' % len(embeddings_index))"
      ],
      "metadata": {
        "colab": {
          "base_uri": "https://localhost:8080/"
        },
        "id": "j7JT9P1FBego",
        "outputId": "be2a9b73-92d3-443c-eac0-7cf6a2ca58ab"
      },
      "execution_count": 10,
      "outputs": [
        {
          "output_type": "stream",
          "name": "stdout",
          "text": [
            "Found 400000 word vectors.\n"
          ]
        }
      ]
    },
    {
      "cell_type": "code",
      "source": [
        "import pandas as pd\n",
        "from sklearn.model_selection import train_test_split\n",
        "from keras.preprocessing.text import Tokenizer\n",
        "from keras.preprocessing.sequence import pad_sequences\n",
        "import gensim.downloader as api\n",
        "import numpy as np\n",
        "from keras.models import Sequential\n",
        "from keras.layers import Embedding, LSTM, Dense, Dropout"
      ],
      "metadata": {
        "id": "gpBw9fX842_2"
      },
      "execution_count": 11,
      "outputs": []
    },
    {
      "cell_type": "code",
      "source": [
        "tokenizer=Tokenizer()\n",
        "tokenizer.fit_on_texts(df['news'])\n",
        "word_index=tokenizer.word_index\n",
        "vocab_size=len(word_index)\n"
      ],
      "metadata": {
        "id": "ou0LP1nPClUi"
      },
      "execution_count": 12,
      "outputs": []
    },
    {
      "cell_type": "code",
      "source": [
        "vocab_size"
      ],
      "metadata": {
        "colab": {
          "base_uri": "https://localhost:8080/"
        },
        "id": "tyco4yEKC36P",
        "outputId": "7f591bf2-d124-4a74-8b7c-55587d22fce6"
      },
      "execution_count": 13,
      "outputs": [
        {
          "output_type": "execute_result",
          "data": {
            "text/plain": [
              "229356"
            ]
          },
          "metadata": {},
          "execution_count": 13
        }
      ]
    },
    {
      "cell_type": "code",
      "source": [
        "sequences = tokenizer.texts_to_sequences(df['news'])\n",
        "padded_seq = pad_sequences(sequences, maxlen=500, padding='post', truncating='post')\n"
      ],
      "metadata": {
        "id": "9D73obKGC-Ay"
      },
      "execution_count": 14,
      "outputs": []
    },
    {
      "cell_type": "code",
      "source": [
        "# create embedding matrix\n",
        "\n",
        "embedding_matrix = np.zeros((vocab_size+1, 100))\n",
        "for word, i in word_index.items():\n",
        "    embedding_vector = embeddings_index.get(word)\n",
        "    if embedding_vector is not None:\n",
        "        embedding_matrix[i] = embedding_vector"
      ],
      "metadata": {
        "id": "lZM_z4AdDf7z"
      },
      "execution_count": 15,
      "outputs": []
    },
    {
      "cell_type": "code",
      "source": [
        "embedding_matrix[1]\n"
      ],
      "metadata": {
        "colab": {
          "base_uri": "https://localhost:8080/"
        },
        "id": "_JSty6zADwOo",
        "outputId": "2d0f6d38-80d3-4c71-aff1-a0ce12800e42"
      },
      "execution_count": 16,
      "outputs": [
        {
          "output_type": "execute_result",
          "data": {
            "text/plain": [
              "array([-0.15730999, -0.75502998,  0.36844999, -0.18957999, -0.16896001,\n",
              "       -0.23157001, -0.22657999, -0.30186   ,  0.24372   ,  0.61896002,\n",
              "        0.58995003,  0.047638  , -0.055164  , -0.70210999,  0.22084001,\n",
              "       -0.69231999,  0.49419001,  1.42850006, -0.25362   ,  0.20031001,\n",
              "       -0.26192001,  0.05315   , -0.048418  , -0.44982001,  0.54644001,\n",
              "       -0.014645  , -0.015531  , -0.61197001, -0.91964   , -0.75279999,\n",
              "        0.64842999,  1.0934    ,  0.052682  ,  0.33344999,  0.10532   ,\n",
              "        0.59517002,  0.023104  , -0.37105   ,  0.29749   , -0.23683   ,\n",
              "        0.079566  , -0.10326   ,  0.35885   , -0.28935   , -0.19881   ,\n",
              "        0.22908001, -0.061435  ,  0.56127   , -0.017115  , -0.32868001,\n",
              "       -0.78416997, -0.49375001,  0.34944001,  0.16278   , -0.061168  ,\n",
              "       -1.31060004,  0.39151999,  0.124     , -0.20873   , -0.18472999,\n",
              "       -0.56184   ,  0.55693001,  0.012114  , -0.54544997, -0.31409001,\n",
              "        0.1       ,  0.31542999,  0.74756998, -0.47734001, -0.18332   ,\n",
              "       -0.65622997,  0.40768   , -0.30697   , -0.47246999, -0.7421    ,\n",
              "       -0.44977999, -0.078122  , -0.52673   , -0.70633   ,  1.32710004,\n",
              "        0.26298001, -0.91000003,  0.91632003, -0.51643002,  0.20284   ,\n",
              "       -0.25402001, -1.25660002,  0.20271   ,  0.92105001, -0.57573998,\n",
              "       -0.15105   , -0.24831   ,  0.36673   , -0.53987002,  0.18534   ,\n",
              "        0.25713   ,  0.38793999, -0.54136997,  0.67817003, -0.17251   ])"
            ]
          },
          "metadata": {},
          "execution_count": 16
        }
      ]
    },
    {
      "cell_type": "code",
      "source": [
        "padded_seq[1]\n"
      ],
      "metadata": {
        "colab": {
          "base_uri": "https://localhost:8080/"
        },
        "id": "py0WqhvNDz7p",
        "outputId": "0c7f1992-067a-405e-a95a-da8d2dca7fdc"
      },
      "execution_count": 17,
      "outputs": [
        {
          "output_type": "execute_result",
          "data": {
            "text/plain": [
              "array([     4,     82,   1264,   1331,  10046,    124,   1377,   1331,\n",
              "            9,    593,     33,     32,  11650,      4,     82,   1585,\n",
              "          124,   1135,     84,   1430,   1377,      2,    115,      8,\n",
              "           17,      1,      3,     62,    605,   1464,   4623,   1689,\n",
              "         1331,    352,     31,     84,   1412,   1430,     10,     91,\n",
              "           10,    950,     28,     71,   1393,     62,      3,    671,\n",
              "          166,    506,   1588,    925,     48,   1755,   3103,     82,\n",
              "         1316,   3565,   1331,  10046,   1277,    417,    171,     86,\n",
              "          126,      2,     62,   1184,   4623,      6,     86,    257,\n",
              "          467,   3674,    854,   1558,    316,    461,    456,    566,\n",
              "        35541,   5516,   1464,  11927,     62,    605,   1712,   9635,\n",
              "            3,   1558,    342,   1113,      8,      3,   5734,   1056,\n",
              "          626,     48,   7349,      5,    126,      2,    558,   1442,\n",
              "         2131,    533,   1377,      2,    850,    901,    288,     75,\n",
              "         1558,   2910,   5617,      1,   6218,   1331,    979,   1789,\n",
              "          257,     86,   2634,   1250,   5135,    176,      1,   1190,\n",
              "         2627, 127542,   1331,    443,    149,  17294,  10046,      2,\n",
              "          341,     62,   1464,   4623,  40408,    329,     48,   2327,\n",
              "            7,    937,   1377,    911,   5265,  77267,      2,     92,\n",
              "            6,   7424,     48,    146,     86,    257,   1659,   1316,\n",
              "        11239,   1331,   5390,     82,    443,   1277,    417,   5390,\n",
              "          203,    545,   9678,   1933,      5,   5486,  17070,    723,\n",
              "         1102,   5266,   1331,   3098,     72,   5824,     87,    185,\n",
              "         1464,      6,    247,     27,      5,      6,      3,   2327,\n",
              "          540,     18,    154,     96,     78,   4057,    352,      3,\n",
              "          153,     82,     38,      5,  17070,      2,   5824,     54,\n",
              "          439,   3508,    333,   2072,   5028,   2829,   1034,     62,\n",
              "          221,   4859,   3726,    200,    214,      1,    467,    315,\n",
              "            7,   6218,   1331,      9,   1789,     82,   7327,     69,\n",
              "            8,    227,     14,      3,    116,   3565,      1,      2,\n",
              "          168,     32,     82,      6,  17071,   3979,    923,   1207,\n",
              "         7294,   1331,     82,      7,  13796,      5,    292,     84,\n",
              "         1755,   2682,     91,   1210,   3867,  16166,    609,    776,\n",
              "         4623,   2976,      1,      3,    352,    283,   1914,     20,\n",
              "            8,      3,    116,   4414,   1755,      2,    352,      7,\n",
              "          204,   3397,     88,      4,    807,   2490,   1075,     50,\n",
              "         1377,   1729,    484,    776,   4527,   6871,   2069,    146,\n",
              "        11650,   1331,   5390,   1277,    417,   2042,   4599,    923,\n",
              "         2568,  13797,   5390,      3,   1341,      7,   1486,     36,\n",
              "        53170,      7,   3158,      1,     62,    801,      2,    283,\n",
              "         3404,    843,    290,   1659,   2163,    474,   2069,    923,\n",
              "         1933,    647,    361,   1331,   5390,    233,   1264,      6,\n",
              "          979,  16386,   2401,    443,      5,     14,     62,    284,\n",
              "         2626,    315,    417,    582,   1316,   3565,   1331,  10046,\n",
              "            1,      3,    257,    125,    642,   1571,   6919,   1722,\n",
              "         1277,    417,   1054,      8,      3,    352,    166,   7876,\n",
              "            1,    357,   1346,   1321,   4040,     63,   1331,    123,\n",
              "          505,     62,      2,     84,     50,   3197,  21055,   6317,\n",
              "         1813,    598,   1331,    887,   7327,    107,   5654,    497,\n",
              "          564,      1,   8634,   3767,    776,     14,     62,     94,\n",
              "           80,   1110,    492,   1331,    450,    150,   7425,  17295,\n",
              "         1830,   2059,      0,      0,      0,      0,      0,      0,\n",
              "            0,      0,      0,      0,      0,      0,      0,      0,\n",
              "            0,      0,      0,      0,      0,      0,      0,      0,\n",
              "            0,      0,      0,      0,      0,      0,      0,      0,\n",
              "            0,      0,      0,      0,      0,      0,      0,      0,\n",
              "            0,      0,      0,      0,      0,      0,      0,      0,\n",
              "            0,      0,      0,      0,      0,      0,      0,      0,\n",
              "            0,      0,      0,      0,      0,      0,      0,      0,\n",
              "            0,      0,      0,      0,      0,      0,      0,      0,\n",
              "            0,      0,      0,      0,      0,      0,      0,      0,\n",
              "            0,      0,      0,      0,      0,      0,      0,      0,\n",
              "            0,      0,      0,      0], dtype=int32)"
            ]
          },
          "metadata": {},
          "execution_count": 17
        }
      ]
    },
    {
      "cell_type": "code",
      "source": [
        "from sklearn.model_selection import train_test_split\n",
        "x_train, x_test, y_train, y_test = train_test_split(padded_seq, df['label'], test_size=0.20, random_state=42, stratify=df['label'])"
      ],
      "metadata": {
        "id": "-AgKhXTqD2zx"
      },
      "execution_count": 19,
      "outputs": []
    },
    {
      "cell_type": "code",
      "source": [
        "from keras.layers import LSTM, Dropout, Dense, Embedding\n",
        "from keras import Sequential\n",
        "\n",
        "# model = Sequential([\n",
        "#     Embedding(vocab_size+1, 100, weights=[embedding_matrix], trainable=False),\n",
        "#     Dropout(0.2),\n",
        "#     LSTM(128, return_sequences=True),\n",
        "#     LSTM(128),\n",
        "#     Dropout(0.2),\n",
        "#     Dense(512),\n",
        "#     Dropout(0.2),\n",
        "#     Dense(256),\n",
        "#     Dense(1, activation='sigmoid')\n",
        "# ])\n",
        "\n",
        "model = Sequential([\n",
        "    Embedding(vocab_size+1, 100, weights=[embedding_matrix], trainable=False),\n",
        "    Dropout(0.2),\n",
        "    LSTM(128),\n",
        "    Dropout(0.2),\n",
        "    Dense(256),\n",
        "    Dense(1, activation='sigmoid')\n",
        "])"
      ],
      "metadata": {
        "id": "giOjaWVUD8YP"
      },
      "execution_count": 20,
      "outputs": []
    },
    {
      "cell_type": "code",
      "source": [
        "model.compile(loss='binary_crossentropy', optimizer='adam', metrics='accuracy')\n",
        "model.summary()"
      ],
      "metadata": {
        "colab": {
          "base_uri": "https://localhost:8080/"
        },
        "id": "z9Y_5tpxECiB",
        "outputId": "5582f119-1026-4413-d568-decd20506352"
      },
      "execution_count": 21,
      "outputs": [
        {
          "output_type": "stream",
          "name": "stdout",
          "text": [
            "Model: \"sequential\"\n",
            "_________________________________________________________________\n",
            " Layer (type)                Output Shape              Param #   \n",
            "=================================================================\n",
            " embedding (Embedding)       (None, None, 100)         22935700  \n",
            "                                                                 \n",
            " dropout (Dropout)           (None, None, 100)         0         \n",
            "                                                                 \n",
            " lstm (LSTM)                 (None, 128)               117248    \n",
            "                                                                 \n",
            " dropout_1 (Dropout)         (None, 128)               0         \n",
            "                                                                 \n",
            " dense (Dense)               (None, 256)               33024     \n",
            "                                                                 \n",
            " dense_1 (Dense)             (None, 1)                 257       \n",
            "                                                                 \n",
            "=================================================================\n",
            "Total params: 23086229 (88.07 MB)\n",
            "Trainable params: 150529 (588.00 KB)\n",
            "Non-trainable params: 22935700 (87.49 MB)\n",
            "_________________________________________________________________\n"
          ]
        }
      ]
    },
    {
      "cell_type": "code",
      "source": [
        "history = model.fit(x_train, y_train, epochs=10, batch_size=256, validation_data=(x_test, y_test))\n"
      ],
      "metadata": {
        "colab": {
          "base_uri": "https://localhost:8080/"
        },
        "id": "fdrn6qxtEFdU",
        "outputId": "a7139a05-c6ae-4e05-d9bf-a89fa0df2f52"
      },
      "execution_count": 22,
      "outputs": [
        {
          "output_type": "stream",
          "name": "stdout",
          "text": [
            "Epoch 1/10\n",
            "141/141 [==============================] - 481s 3s/step - loss: 0.5898 - accuracy: 0.6766 - val_loss: 0.6918 - val_accuracy: 0.5255\n",
            "Epoch 2/10\n",
            "141/141 [==============================] - 505s 4s/step - loss: 0.6874 - accuracy: 0.5393 - val_loss: 0.6824 - val_accuracy: 0.5477\n",
            "Epoch 3/10\n",
            "141/141 [==============================] - 492s 4s/step - loss: 0.6832 - accuracy: 0.5479 - val_loss: 0.6802 - val_accuracy: 0.5609\n",
            "Epoch 4/10\n",
            "141/141 [==============================] - 509s 4s/step - loss: 0.6756 - accuracy: 0.5631 - val_loss: 0.6832 - val_accuracy: 0.5480\n",
            "Epoch 5/10\n",
            "141/141 [==============================] - 462s 3s/step - loss: 0.5964 - accuracy: 0.6569 - val_loss: 0.6394 - val_accuracy: 0.6514\n",
            "Epoch 6/10\n",
            "141/141 [==============================] - 488s 3s/step - loss: 0.6172 - accuracy: 0.6054 - val_loss: 0.5925 - val_accuracy: 0.6390\n",
            "Epoch 7/10\n",
            "141/141 [==============================] - 490s 3s/step - loss: 0.5482 - accuracy: 0.7098 - val_loss: 0.4301 - val_accuracy: 0.8329\n",
            "Epoch 8/10\n",
            "141/141 [==============================] - 492s 4s/step - loss: 0.4735 - accuracy: 0.7997 - val_loss: 0.7025 - val_accuracy: 0.4771\n",
            "Epoch 9/10\n",
            "141/141 [==============================] - 488s 3s/step - loss: 0.6814 - accuracy: 0.5441 - val_loss: 0.6539 - val_accuracy: 0.5709\n",
            "Epoch 10/10\n",
            "141/141 [==============================] - 490s 3s/step - loss: 0.6401 - accuracy: 0.6082 - val_loss: 0.3514 - val_accuracy: 0.9088\n"
          ]
        }
      ]
    },
    {
      "cell_type": "code",
      "source": [
        "# building a predictive system\n",
        "\n",
        "def predict_sent(review):\n",
        "  # tokenization and pad review\n",
        "  sequence=tokenizer.texts_to_sequences([news])\n",
        "  padded_sequence=pad_sequences(sequence,maxlen=200)\n",
        "  prediction=model.predict(padded_sequence)\n",
        "  sentiment=\"true news \" if prediction[0][0]>0.5 else \"fake news\"\n",
        "  return sentiment\n",
        "\n",
        "# new_text = \"This is a sample news article to be classified.\"\n",
        "# max_length = max(len(seq) for seq in sequences)  # Use the same max_length as in training\n",
        "# prepared_text = pad_sequences(new_text, tokenizer, max_length)"
      ],
      "metadata": {
        "id": "pqjUsXGbKyLv"
      },
      "execution_count": 34,
      "outputs": []
    },
    {
      "cell_type": "code",
      "source": [
        "news=\"biden is a weak president , will lead to downfall of america\"\n",
        "sent=predict_sent(news)\n",
        "print(sent)"
      ],
      "metadata": {
        "colab": {
          "base_uri": "https://localhost:8080/"
        },
        "id": "nDDn2n9hLUP6",
        "outputId": "362cbc99-53cb-4344-830e-2dde9492a40e"
      },
      "execution_count": 35,
      "outputs": [
        {
          "output_type": "stream",
          "name": "stdout",
          "text": [
            "1/1 [==============================] - 0s 102ms/step\n",
            "fake news\n"
          ]
        }
      ]
    },
    {
      "cell_type": "code",
      "source": [
        "news=\"donald trump is a presdient of india\"\n",
        "sent=predict_sent(news)\n",
        "print(sent)"
      ],
      "metadata": {
        "colab": {
          "base_uri": "https://localhost:8080/"
        },
        "id": "t9CXAMntXQn3",
        "outputId": "73c0a7e2-5639-4137-b2f2-6ae9b6de6bc2"
      },
      "execution_count": 27,
      "outputs": [
        {
          "output_type": "stream",
          "name": "stdout",
          "text": [
            "1/1 [==============================] - 0s 39ms/step\n",
            "fake news\n"
          ]
        }
      ]
    },
    {
      "cell_type": "code",
      "source": [
        "news=\"donald trump is a presdient of america\"\n",
        "sent=predict_sent(news)\n",
        "print(sent)"
      ],
      "metadata": {
        "colab": {
          "base_uri": "https://localhost:8080/"
        },
        "id": "REA4xkC5Xsfk",
        "outputId": "25815ca6-db9c-4107-f959-baa01954f7a2"
      },
      "execution_count": 28,
      "outputs": [
        {
          "output_type": "stream",
          "name": "stdout",
          "text": [
            "1/1 [==============================] - 0s 90ms/step\n",
            "fake news\n"
          ]
        }
      ]
    },
    {
      "cell_type": "code",
      "source": [
        "news=\"us military accept transgender recruits monday\"\n",
        "sent=predict_sent(news)\n",
        "print(sent)"
      ],
      "metadata": {
        "colab": {
          "base_uri": "https://localhost:8080/"
        },
        "id": "xbdqLrTiYDyX",
        "outputId": "fae4d615-91ae-4979-a34c-e1cceb0e49df"
      },
      "execution_count": 37,
      "outputs": [
        {
          "output_type": "stream",
          "name": "stdout",
          "text": [
            "1/1 [==============================] - 0s 91ms/step\n",
            "fake news\n"
          ]
        }
      ]
    },
    {
      "cell_type": "code",
      "source": [
        "news=\"department justice fines sheriff excluding illegals hiring wikipediathe immigration nationality act 1965 hart celler act abolished quota system based national origins american immigration policy since 1920s new law maintained percountry limits also created preference visa categories focused immigrants skills family relationships citizens us residents bill set numerical restrictions visas 170000 per year percountryoforigin quota however immediate relatives us citizens special immigrants restrictionsthe denver sheriff department accept penalty department justice federal probe found wrongly made us citizenship job requirement recent hiring spreethe sheriff department biggest sheriff office colorado pay 10000 fine required applications deputy sheriff jobs us citizens hiring beginning 2015 march 2016 department went hiring spree 200 deputies part ongoing reformthe department also go old applications find applicants eliminated citizenship status reconsider future jobsthe justice department made announcement monday saying sheriff department violated immigration nationality act without exemptionread\"\n",
        "sent=predict_sent(news)\n",
        "print(sent)"
      ],
      "metadata": {
        "colab": {
          "base_uri": "https://localhost:8080/"
        },
        "id": "9ad6G6MfYLlX",
        "outputId": "d4165b6b-5200-489c-fef0-5f633b2215e8"
      },
      "execution_count": 36,
      "outputs": [
        {
          "output_type": "stream",
          "name": "stdout",
          "text": [
            "1/1 [==============================] - 0s 46ms/step\n",
            "fake news\n"
          ]
        }
      ]
    },
    {
      "cell_type": "code",
      "source": [
        "def preprocess_text(text):\n",
        "    tokens = word_tokenize(text.lower())\n",
        "    tokens = [word for word in tokens if word.isalpha() and word not in stop_words]\n",
        "    return ' '.join(tokens)"
      ],
      "metadata": {
        "id": "AGkx5LHJh53C"
      },
      "execution_count": null,
      "outputs": []
    },
    {
      "cell_type": "code",
      "source": [
        "def prepare_text(text, tokenizer, max_length):\n",
        "    processed_text = preprocess_text(text)\n",
        "    sequence = tokenizer.texts_to_sequences([processed_text])\n",
        "    padded_sequence = pad_sequences(sequence, maxlen=max_length)\n",
        "    return padded_sequence"
      ],
      "metadata": {
        "id": "KshRUzIZhhMt"
      },
      "execution_count": 39,
      "outputs": []
    },
    {
      "cell_type": "code",
      "source": [
        "# Function to predict fake news\n",
        "def predict_fake_news(model, tokenizer, text, max_length):\n",
        "    prepared_text = prepare_text(text, tokenizer, max_length)\n",
        "    prediction = model.predict(prepared_text)\n",
        "    predicted_label = (prediction > 0.5).astype(int)\n",
        "    return 'Real' if predicted_label == 1 else 'Fake'"
      ],
      "metadata": {
        "id": "MXJZkltkYbX3"
      },
      "execution_count": 40,
      "outputs": []
    },
    {
      "cell_type": "code",
      "source": [
        "news=\"department justice fines sheriff excluding illegals hiring wikipediathe immigration nationality act 1965 hart celler act abolished quota system based national origins american immigration policy since 1920s new law maintained percountry limits also created preference visa categories focused immigrants skills family relationships citizens us residents bill set numerical restrictions visas 170000 per year percountryoforigin quota however immediate relatives us citizens special immigrants restrictionsthe denver sheriff department accept penalty department justice federal probe found wrongly made us citizenship job requirement recent hiring spreethe sheriff department biggest sheriff office colorado pay 10000 fine required applications deputy sheriff jobs us citizens hiring beginning 2015 march 2016 department went hiring spree 200 deputies part ongoing reformthe department also go old applications find applicants eliminated citizenship status reconsider future jobsthe justice department made announcement monday saying sheriff department violated immigration nationality act without exemptionread\"\n",
        "result = predict_fake_news(model, tokenizer, news, 100)\n",
        "print(result)"
      ],
      "metadata": {
        "colab": {
          "base_uri": "https://localhost:8080/",
          "height": 460
        },
        "id": "TuUZkRYLhSMg",
        "outputId": "1dd9cb26-2d2d-4c91-d9d7-d0a05aa9f6c7"
      },
      "execution_count": 43,
      "outputs": [
        {
          "output_type": "error",
          "ename": "NameError",
          "evalue": "name 'preprocess_text' is not defined",
          "traceback": [
            "\u001b[0;31m---------------------------------------------------------------------------\u001b[0m",
            "\u001b[0;31mNameError\u001b[0m                                 Traceback (most recent call last)",
            "\u001b[0;32m<ipython-input-43-555d04ffc09b>\u001b[0m in \u001b[0;36m<cell line: 2>\u001b[0;34m()\u001b[0m\n\u001b[1;32m      1\u001b[0m \u001b[0mnews\u001b[0m\u001b[0;34m=\u001b[0m\u001b[0;34m\"department justice fines sheriff excluding illegals hiring wikipediathe immigration nationality act 1965 hart celler act abolished quota system based national origins american immigration policy since 1920s new law maintained percountry limits also created preference visa categories focused immigrants skills family relationships citizens us residents bill set numerical restrictions visas 170000 per year percountryoforigin quota however immediate relatives us citizens special immigrants restrictionsthe denver sheriff department accept penalty department justice federal probe found wrongly made us citizenship job requirement recent hiring spreethe sheriff department biggest sheriff office colorado pay 10000 fine required applications deputy sheriff jobs us citizens hiring beginning 2015 march 2016 department went hiring spree 200 deputies part ongoing reformthe department also go old applications find applicants eliminated citizenship status reconsider future jobsthe justice department made announcement monday saying sheriff department violated immigration nationality act without exemptionread\"\u001b[0m\u001b[0;34m\u001b[0m\u001b[0;34m\u001b[0m\u001b[0m\n\u001b[0;32m----> 2\u001b[0;31m \u001b[0mresult\u001b[0m \u001b[0;34m=\u001b[0m \u001b[0mpredict_fake_news\u001b[0m\u001b[0;34m(\u001b[0m\u001b[0mmodel\u001b[0m\u001b[0;34m,\u001b[0m \u001b[0mtokenizer\u001b[0m\u001b[0;34m,\u001b[0m \u001b[0mnews\u001b[0m\u001b[0;34m,\u001b[0m \u001b[0;36m100\u001b[0m\u001b[0;34m)\u001b[0m\u001b[0;34m\u001b[0m\u001b[0;34m\u001b[0m\u001b[0m\n\u001b[0m\u001b[1;32m      3\u001b[0m \u001b[0mprint\u001b[0m\u001b[0;34m(\u001b[0m\u001b[0mresult\u001b[0m\u001b[0;34m)\u001b[0m\u001b[0;34m\u001b[0m\u001b[0;34m\u001b[0m\u001b[0m\n",
            "\u001b[0;32m<ipython-input-40-15528cbee2e1>\u001b[0m in \u001b[0;36mpredict_fake_news\u001b[0;34m(model, tokenizer, text, max_length)\u001b[0m\n\u001b[1;32m      1\u001b[0m \u001b[0;31m# Function to predict fake news\u001b[0m\u001b[0;34m\u001b[0m\u001b[0;34m\u001b[0m\u001b[0m\n\u001b[1;32m      2\u001b[0m \u001b[0;32mdef\u001b[0m \u001b[0mpredict_fake_news\u001b[0m\u001b[0;34m(\u001b[0m\u001b[0mmodel\u001b[0m\u001b[0;34m,\u001b[0m \u001b[0mtokenizer\u001b[0m\u001b[0;34m,\u001b[0m \u001b[0mtext\u001b[0m\u001b[0;34m,\u001b[0m \u001b[0mmax_length\u001b[0m\u001b[0;34m)\u001b[0m\u001b[0;34m:\u001b[0m\u001b[0;34m\u001b[0m\u001b[0;34m\u001b[0m\u001b[0m\n\u001b[0;32m----> 3\u001b[0;31m     \u001b[0mprepared_text\u001b[0m \u001b[0;34m=\u001b[0m \u001b[0mprepare_text\u001b[0m\u001b[0;34m(\u001b[0m\u001b[0mtext\u001b[0m\u001b[0;34m,\u001b[0m \u001b[0mtokenizer\u001b[0m\u001b[0;34m,\u001b[0m \u001b[0mmax_length\u001b[0m\u001b[0;34m)\u001b[0m\u001b[0;34m\u001b[0m\u001b[0;34m\u001b[0m\u001b[0m\n\u001b[0m\u001b[1;32m      4\u001b[0m     \u001b[0mprediction\u001b[0m \u001b[0;34m=\u001b[0m \u001b[0mmodel\u001b[0m\u001b[0;34m.\u001b[0m\u001b[0mpredict\u001b[0m\u001b[0;34m(\u001b[0m\u001b[0mprepared_text\u001b[0m\u001b[0;34m)\u001b[0m\u001b[0;34m\u001b[0m\u001b[0;34m\u001b[0m\u001b[0m\n\u001b[1;32m      5\u001b[0m     \u001b[0mpredicted_label\u001b[0m \u001b[0;34m=\u001b[0m \u001b[0;34m(\u001b[0m\u001b[0mprediction\u001b[0m \u001b[0;34m>\u001b[0m \u001b[0;36m0.5\u001b[0m\u001b[0;34m)\u001b[0m\u001b[0;34m.\u001b[0m\u001b[0mastype\u001b[0m\u001b[0;34m(\u001b[0m\u001b[0mint\u001b[0m\u001b[0;34m)\u001b[0m\u001b[0;34m\u001b[0m\u001b[0;34m\u001b[0m\u001b[0m\n",
            "\u001b[0;32m<ipython-input-39-419290973c90>\u001b[0m in \u001b[0;36mprepare_text\u001b[0;34m(text, tokenizer, max_length)\u001b[0m\n\u001b[1;32m      1\u001b[0m \u001b[0;32mdef\u001b[0m \u001b[0mprepare_text\u001b[0m\u001b[0;34m(\u001b[0m\u001b[0mtext\u001b[0m\u001b[0;34m,\u001b[0m \u001b[0mtokenizer\u001b[0m\u001b[0;34m,\u001b[0m \u001b[0mmax_length\u001b[0m\u001b[0;34m)\u001b[0m\u001b[0;34m:\u001b[0m\u001b[0;34m\u001b[0m\u001b[0;34m\u001b[0m\u001b[0m\n\u001b[0;32m----> 2\u001b[0;31m     \u001b[0mprocessed_text\u001b[0m \u001b[0;34m=\u001b[0m \u001b[0mpreprocess_text\u001b[0m\u001b[0;34m(\u001b[0m\u001b[0mtext\u001b[0m\u001b[0;34m)\u001b[0m\u001b[0;34m\u001b[0m\u001b[0;34m\u001b[0m\u001b[0m\n\u001b[0m\u001b[1;32m      3\u001b[0m     \u001b[0msequence\u001b[0m \u001b[0;34m=\u001b[0m \u001b[0mtokenizer\u001b[0m\u001b[0;34m.\u001b[0m\u001b[0mtexts_to_sequences\u001b[0m\u001b[0;34m(\u001b[0m\u001b[0;34m[\u001b[0m\u001b[0mprocessed_text\u001b[0m\u001b[0;34m]\u001b[0m\u001b[0;34m)\u001b[0m\u001b[0;34m\u001b[0m\u001b[0;34m\u001b[0m\u001b[0m\n\u001b[1;32m      4\u001b[0m     \u001b[0mpadded_sequence\u001b[0m \u001b[0;34m=\u001b[0m \u001b[0mpad_sequences\u001b[0m\u001b[0;34m(\u001b[0m\u001b[0msequence\u001b[0m\u001b[0;34m,\u001b[0m \u001b[0mmaxlen\u001b[0m\u001b[0;34m=\u001b[0m\u001b[0mmax_length\u001b[0m\u001b[0;34m)\u001b[0m\u001b[0;34m\u001b[0m\u001b[0;34m\u001b[0m\u001b[0m\n\u001b[1;32m      5\u001b[0m     \u001b[0;32mreturn\u001b[0m \u001b[0mpadded_sequence\u001b[0m\u001b[0;34m\u001b[0m\u001b[0;34m\u001b[0m\u001b[0m\n",
            "\u001b[0;31mNameError\u001b[0m: name 'preprocess_text' is not defined"
          ]
        }
      ]
    },
    {
      "cell_type": "code",
      "source": [],
      "metadata": {
        "id": "gv0_QW30hisI"
      },
      "execution_count": null,
      "outputs": []
    }
  ]
}